{
 "cells": [
  {
   "cell_type": "markdown",
   "metadata": {},
   "source": [
    "## Request USGS Streamflow Data.\n",
    "This notebook is an example of how to use pydrology to download and resample USGS streamflow data. The USGS provides gage data from streams and rivers across the united states, which can be accessed on their website (https://waterdata.usgs.gov/nwis). An example of the monitoring data can be found here (https://waterdata.usgs.gov/monitoring-location/04234000/#parameterCode=00065&period=P7D) for Fall Creek in Ithaca, NY. The data provided at each location is generally a gage measurement in feet and a discharge value that is derived from a rating curve. \n",
    "\n",
    "The general workflow for requesting USGS streamflow data is as follows:\n",
    "1. Request the gage/discharge data for a particular site using the function call below.\n",
    "2. Inspect the raw gage/discharge data for missing values and other issues.\n",
    "3. Handle any data cleaning and then the data is ready for use!\n",
    "4. (Optional) Downsample or upsample the data using the provided functions."
   ]
  },
  {
   "cell_type": "code",
   "execution_count": 1,
   "metadata": {},
   "outputs": [],
   "source": [
    "# Library imports.\n",
    "\n",
    "# Local imports.\n",
    "from pydrology.data_requests import usgs_data\n",
    "from pydrology.plotting import plotting"
   ]
  },
  {
   "cell_type": "markdown",
   "metadata": {},
   "source": [
    "## 1) Request USGS stream data"
   ]
  },
  {
   "cell_type": "code",
   "execution_count": 2,
   "metadata": {},
   "outputs": [],
   "source": [
    "# Parameters for the request.\n",
    "# ---------------------------\n",
    "\n",
    "# Gage ID. Found on the USGS page for the specific monitoring location.\n",
    "gage_id = \"04234000\" # Fall Creek, Ithaca, NY \n",
    "\n",
    "# Start date in format yyyy-mm-dd. \"2022-06-24\"\n",
    "start_date = \"2022-05-24\" \n",
    "\n",
    "# Local start time in format HH:MM:SS.mmm. \"11:17:05.203\"\n",
    "start_time = \"13:00:00.000\" \n",
    "\n",
    "# End date in format yyyy-mm-dd. \"2022-06-24\"\n",
    "end_date = \"2022-05-26\" \n",
    "\n",
    "# Local end time in format HH:MM:SS.mmm. \"11:17:05.203\"\n",
    "end_time = \"11:00:00.000\" \n",
    "\n",
    "# Number of hour offset from GMT (+ or -) in format +/-HH:MM. \"-04:00\"\n",
    "gmt_offset = \"-05:00\" "
   ]
  },
  {
   "cell_type": "code",
   "execution_count": 3,
   "metadata": {},
   "outputs": [
    {
     "data": {
      "text/html": [
       "<div>\n",
       "<style scoped>\n",
       "    .dataframe tbody tr th:only-of-type {\n",
       "        vertical-align: middle;\n",
       "    }\n",
       "\n",
       "    .dataframe tbody tr th {\n",
       "        vertical-align: top;\n",
       "    }\n",
       "\n",
       "    .dataframe thead th {\n",
       "        text-align: right;\n",
       "    }\n",
       "</style>\n",
       "<table border=\"1\" class=\"dataframe\">\n",
       "  <thead>\n",
       "    <tr style=\"text-align: right;\">\n",
       "      <th></th>\n",
       "      <th>agency</th>\n",
       "      <th>site_no</th>\n",
       "      <th>datetime</th>\n",
       "      <th>tz_cd</th>\n",
       "      <th>discharge</th>\n",
       "      <th>provis_accept</th>\n",
       "    </tr>\n",
       "  </thead>\n",
       "  <tbody>\n",
       "    <tr>\n",
       "      <th>180</th>\n",
       "      <td>USGS</td>\n",
       "      <td>4234000</td>\n",
       "      <td>2022-05-26 10:00</td>\n",
       "      <td>EST</td>\n",
       "      <td>0.93</td>\n",
       "      <td>P</td>\n",
       "    </tr>\n",
       "    <tr>\n",
       "      <th>181</th>\n",
       "      <td>USGS</td>\n",
       "      <td>4234000</td>\n",
       "      <td>2022-05-26 10:15</td>\n",
       "      <td>EST</td>\n",
       "      <td>0.93</td>\n",
       "      <td>P</td>\n",
       "    </tr>\n",
       "    <tr>\n",
       "      <th>182</th>\n",
       "      <td>USGS</td>\n",
       "      <td>4234000</td>\n",
       "      <td>2022-05-26 10:30</td>\n",
       "      <td>EST</td>\n",
       "      <td>0.94</td>\n",
       "      <td>P</td>\n",
       "    </tr>\n",
       "    <tr>\n",
       "      <th>183</th>\n",
       "      <td>USGS</td>\n",
       "      <td>4234000</td>\n",
       "      <td>2022-05-26 10:45</td>\n",
       "      <td>EST</td>\n",
       "      <td>0.92</td>\n",
       "      <td>P</td>\n",
       "    </tr>\n",
       "    <tr>\n",
       "      <th>184</th>\n",
       "      <td>USGS</td>\n",
       "      <td>4234000</td>\n",
       "      <td>2022-05-26 11:00</td>\n",
       "      <td>EST</td>\n",
       "      <td>0.92</td>\n",
       "      <td>P</td>\n",
       "    </tr>\n",
       "  </tbody>\n",
       "</table>\n",
       "</div>"
      ],
      "text/plain": [
       "    agency  site_no          datetime tz_cd  discharge provis_accept\n",
       "180   USGS  4234000  2022-05-26 10:00   EST       0.93             P\n",
       "181   USGS  4234000  2022-05-26 10:15   EST       0.93             P\n",
       "182   USGS  4234000  2022-05-26 10:30   EST       0.94             P\n",
       "183   USGS  4234000  2022-05-26 10:45   EST       0.92             P\n",
       "184   USGS  4234000  2022-05-26 11:00   EST       0.92             P"
      ]
     },
     "execution_count": 3,
     "metadata": {},
     "output_type": "execute_result"
    }
   ],
   "source": [
    "# Request the gage data as a DataFrame.\n",
    "gage_df = usgs_data.download_usgs_gage_data(gage_id, start_date, start_time, end_date, end_time, gmt_offset)\n",
    "\n",
    "# Print the head and tail.\n",
    "gage_df.head()\n",
    "gage_df.tail()"
   ]
  },
  {
   "cell_type": "markdown",
   "metadata": {},
   "source": [
    "## 2) Inspect the data."
   ]
  },
  {
   "cell_type": "code",
   "execution_count": 4,
   "metadata": {},
   "outputs": [
    {
     "data": {
      "image/png": "[encoded data removed]",
      "text/plain": [
       "<Figure size 432x288 with 1 Axes>"
      ]
     },
     "metadata": {
      "needs_background": "light"
     },
     "output_type": "display_data"
    },
    {
     "data": {
      "image/png": "[encoded data removed]",
      "text/plain": [
       "<Figure size 576x360 with 1 Axes>"
      ]
     },
     "metadata": {
      "needs_background": "light"
     },
     "output_type": "display_data"
    }
   ],
   "source": [
    "# Plotting column names and missing value.\n",
    "data_column_name = 'discharge'\n",
    "time_column_name = 'datetime'\n",
    "missing_value = 'M'\n",
    "\n",
    "# Plot the valid, missing, and non-valid data as a bar chart.\n",
    "plotting.plot_missing_ratio(gage_df, data_column_name)\n",
    "\n",
    "# Plot the data as a time series.\n",
    "plotting.plot_data_timeseries(gage_df, data_column_name, time_column_name, missing_value=missing_value)"
   ]
  },
  {
   "cell_type": "markdown",
   "metadata": {},
   "source": [
    "## 3) Data cleaning."
   ]
  },
  {
   "cell_type": "code",
   "execution_count": null,
   "metadata": {},
   "outputs": [],
   "source": [
    "# Linear interpolation of missing data values. \n"
   ]
  },
  {
   "cell_type": "markdown",
   "metadata": {},
   "source": [
    "## 4) Resampling data."
   ]
  },
  {
   "cell_type": "code",
   "execution_count": 10,
   "metadata": {},
   "outputs": [
    {
     "data": {
      "text/html": [
       "<div>\n",
       "<style scoped>\n",
       "    .dataframe tbody tr th:only-of-type {\n",
       "        vertical-align: middle;\n",
       "    }\n",
       "\n",
       "    .dataframe tbody tr th {\n",
       "        vertical-align: top;\n",
       "    }\n",
       "\n",
       "    .dataframe thead th {\n",
       "        text-align: right;\n",
       "    }\n",
       "</style>\n",
       "<table border=\"1\" class=\"dataframe\">\n",
       "  <thead>\n",
       "    <tr style=\"text-align: right;\">\n",
       "      <th></th>\n",
       "      <th>agency</th>\n",
       "      <th>site_no</th>\n",
       "      <th>datetime</th>\n",
       "      <th>tz_cd</th>\n",
       "      <th>discharge</th>\n",
       "      <th>provis_accept</th>\n",
       "    </tr>\n",
       "  </thead>\n",
       "  <tbody>\n",
       "    <tr>\n",
       "      <th>0</th>\n",
       "      <td>USGS</td>\n",
       "      <td>4234000</td>\n",
       "      <td>2022-05-24 13:00:00</td>\n",
       "      <td>EST</td>\n",
       "      <td>2835.0</td>\n",
       "      <td>P</td>\n",
       "    </tr>\n",
       "    <tr>\n",
       "      <th>1</th>\n",
       "      <td>USGS</td>\n",
       "      <td>4234000</td>\n",
       "      <td>2022-05-24 14:00:00</td>\n",
       "      <td>EST</td>\n",
       "      <td>2817.0</td>\n",
       "      <td>P</td>\n",
       "    </tr>\n",
       "    <tr>\n",
       "      <th>2</th>\n",
       "      <td>USGS</td>\n",
       "      <td>4234000</td>\n",
       "      <td>2022-05-24 15:00:00</td>\n",
       "      <td>EST</td>\n",
       "      <td>2808.0</td>\n",
       "      <td>P</td>\n",
       "    </tr>\n",
       "    <tr>\n",
       "      <th>3</th>\n",
       "      <td>USGS</td>\n",
       "      <td>4234000</td>\n",
       "      <td>2022-05-24 16:00:00</td>\n",
       "      <td>EST</td>\n",
       "      <td>2803.5</td>\n",
       "      <td>P</td>\n",
       "    </tr>\n",
       "    <tr>\n",
       "      <th>4</th>\n",
       "      <td>USGS</td>\n",
       "      <td>4234000</td>\n",
       "      <td>2022-05-24 17:00:00</td>\n",
       "      <td>EST</td>\n",
       "      <td>2758.5</td>\n",
       "      <td>P</td>\n",
       "    </tr>\n",
       "  </tbody>\n",
       "</table>\n",
       "</div>"
      ],
      "text/plain": [
       "  agency  site_no            datetime tz_cd  discharge provis_accept\n",
       "0   USGS  4234000 2022-05-24 13:00:00   EST     2835.0             P\n",
       "1   USGS  4234000 2022-05-24 14:00:00   EST     2817.0             P\n",
       "2   USGS  4234000 2022-05-24 15:00:00   EST     2808.0             P\n",
       "3   USGS  4234000 2022-05-24 16:00:00   EST     2803.5             P\n",
       "4   USGS  4234000 2022-05-24 17:00:00   EST     2758.5             P"
      ]
     },
     "execution_count": 10,
     "metadata": {},
     "output_type": "execute_result"
    }
   ],
   "source": [
    "# Upsampling or downsampling data. \n",
    "# New time step in minutes. \n",
    "new_dt = 60\n",
    "gage_data_column = 'discharge'\n",
    "resample_df = usgs_data.resample_gage_data(gage_df, new_dt, gage_data_column)\n",
    "resample_df.head()"
   ]
  },
  {
   "cell_type": "code",
   "execution_count": null,
   "metadata": {},
   "outputs": [],
   "source": []
  }
 ],
 "metadata": {
  "kernelspec": {
   "display_name": "pydrology-env",
   "language": "python",
   "name": "pydrology-env"
  },
  "language_info": {
   "codemirror_mode": {
    "name": "ipython",
    "version": 3
   },
   "file_extension": ".py",
   "mimetype": "text/x-python",
   "name": "python",
   "nbconvert_exporter": "python",
   "pygments_lexer": "ipython3",
   "version": "3.8.4"
  }
 },
 "nbformat": 4,
 "nbformat_minor": 5
}
