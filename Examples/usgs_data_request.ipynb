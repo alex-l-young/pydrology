{
 "cells": [
  {
   "cell_type": "markdown",
   "id": "a478cd18",
   "metadata": {},
   "source": [
    "## Request USGS Streamflow Data.\n",
    "This notebook is an example of how to use pydrology to download and resample USGS streamflow data. The USGS provides gage data from streams and rivers across the united states, which can be accessed on their website (https://waterdata.usgs.gov/nwis). An example of the monitoring data can be found here (https://waterdata.usgs.gov/monitoring-location/04234000/#parameterCode=00065&period=P7D) for Fall Creek in Ithaca, NY. The data provided at each location is generally a gage measurement in feet and a discharge value that is derived from a rating curve. \n",
    "\n",
    "The general workflow for requesting USGS streamflow data is as follows:\n",
    "1. Request the gage/discharge data for a particular site using the function call below.\n",
    "2. Inspect the raw gage/discharge data for missing values and other issues.\n",
    "3. Handle any data cleaning and then the data is ready for use!\n",
    "4. (Optional) Downsample or upsample the data using the provided functions."
   ]
  },
  {
   "cell_type": "code",
   "execution_count": 1,
   "id": "00a6126d",
   "metadata": {},
   "outputs": [],
   "source": [
    "# Library imports.\n",
    "\n",
    "# Local imports.\n",
    "from pydrology.data_requests import usgs_data"
   ]
  },
  {
   "cell_type": "markdown",
   "id": "0a931010",
   "metadata": {},
   "source": [
    "## 1) Request USGS stream data"
   ]
  },
  {
   "cell_type": "code",
   "execution_count": null,
   "id": "0c98750b",
   "metadata": {},
   "outputs": [],
   "source": [
    "# Parameters for the request.\n",
    "# ---------------------------\n",
    "\n",
    "# Gage ID. Found on the USGS page for the specific monitoring location.\n",
    "gage_id = \"04234000\" # Fall Creek, Ithaca, NY \n",
    "\n",
    "# Start date in format yyyy-mm-dd. \"2022-06-24\"\n",
    "start_date = \"2022-05-24\" \n",
    "\n",
    "# Local start time in format HH:MM:SS.mmm. \"11:17:05.203\"\n",
    "start_time = \"13:00:00.000\" \n",
    "\n",
    "# End date in format yyyy-mm-dd. \"2022-06-24\"\n",
    "end_date = \"2022-05-26\" \n",
    "\n",
    "# Local end time in format HH:MM:SS.mmm. \"11:17:05.203\"\n",
    "end_time = \"11:00:00.000\" \n",
    "\n",
    "# Number of hour offset from GMT (+ or -) in format +/-HH:MM. \"-04:00\"\n",
    "gmt_offset = \"-05:00\" "
   ]
  },
  {
   "cell_type": "code",
   "execution_count": null,
   "id": "55248ecd",
   "metadata": {},
   "outputs": [],
   "source": [
    "# Request the gage data as a DataFrame.\n",
    "gage_df = usgs_data.download_usgs_gage_data(gage_id, start_date, start_time, end_date, end_time, gmt_offset)\n",
    "\n",
    "# Print the head and tail.\n",
    "gage_df.head()\n",
    "gage_df.tail()"
   ]
  },
  {
   "cell_type": "markdown",
   "id": "0a049c30",
   "metadata": {},
   "source": [
    "## 2) Inspect the data."
   ]
  },
  {
   "cell_type": "code",
   "execution_count": null,
   "id": "23e79418",
   "metadata": {},
   "outputs": [],
   "source": []
  },
  {
   "cell_type": "markdown",
   "id": "e956efa8",
   "metadata": {},
   "source": [
    "## 3) Data cleaning."
   ]
  },
  {
   "cell_type": "code",
   "execution_count": null,
   "id": "eede951e",
   "metadata": {},
   "outputs": [],
   "source": []
  },
  {
   "cell_type": "markdown",
   "id": "5c496826",
   "metadata": {},
   "source": [
    "## 4) Resampling data."
   ]
  },
  {
   "cell_type": "code",
   "execution_count": null,
   "id": "e401a0b7",
   "metadata": {},
   "outputs": [],
   "source": []
  }
 ],
 "metadata": {
  "kernelspec": {
   "display_name": "pydrology-env",
   "language": "python",
   "name": "pydrology-env"
  },
  "language_info": {
   "codemirror_mode": {
    "name": "ipython",
    "version": 3
   },
   "file_extension": ".py",
   "mimetype": "text/x-python",
   "name": "python",
   "nbconvert_exporter": "python",
   "pygments_lexer": "ipython3",
   "version": "3.8.4"
  }
 },
 "nbformat": 4,
 "nbformat_minor": 5
}