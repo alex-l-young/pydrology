{
 "cells": [
  {
   "cell_type": "markdown",
   "metadata": {},
   "source": [
    "## Request NOAA Daily Meterology Data.\n",
    "This notebook is an example of how to use pydrology to download and resample NOAA SC-ACIS. NOAA provides daily meteorology data, which can be accessed on their website (https://scacis.rcc-acis.org/). The data requests in this notebook come from Single Station Products > Daily Data Listing. The data comes from a network of weather monitoring stations that may have different meterology options, most often temperature and precipitation. Weather stations may have different time periods of data due to when they were put online or taken off. If your request contains a longer time period than is available, no-data values will be used as placeholders for the missing data.  \n",
    "\n",
    "The general workflow for requesting USGS streamflow data is as follows:\n",
    "1. Request the MET data for a particular site using the function call below.\n",
    "2. Inspect the raw data for missing values and other issues.\n",
    "3. Handle any data cleaning and then the data is ready for use!\n",
    "4. (Optional) Downsample or upsample the data using the provided functions."
   ]
  },
  {
   "cell_type": "code",
   "execution_count": 1,
   "metadata": {},
   "outputs": [],
   "source": [
    "# Local imports.\n",
    "from pydrology.data_requests import acis_data\n",
    "from pydrology import plotting"
   ]
  },
  {
   "cell_type": "markdown",
   "metadata": {},
   "source": [
    "## 1) Request meteorology data."
   ]
  },
  {
   "cell_type": "code",
   "execution_count": 2,
   "metadata": {},
   "outputs": [
    {
     "data": {
      "text/html": [
       "<div>\n",
       "<style scoped>\n",
       "    .dataframe tbody tr th:only-of-type {\n",
       "        vertical-align: middle;\n",
       "    }\n",
       "\n",
       "    .dataframe tbody tr th {\n",
       "        vertical-align: top;\n",
       "    }\n",
       "\n",
       "    .dataframe thead th {\n",
       "        text-align: right;\n",
       "    }\n",
       "</style>\n",
       "<table border=\"1\" class=\"dataframe\">\n",
       "  <thead>\n",
       "    <tr style=\"text-align: right;\">\n",
       "      <th></th>\n",
       "      <th>Date</th>\n",
       "      <th>MaxTemp</th>\n",
       "      <th>MinTemp</th>\n",
       "      <th>SnowDepth</th>\n",
       "      <th>AvgTemp</th>\n",
       "      <th>Precipitation</th>\n",
       "      <th>site_id</th>\n",
       "      <th>name</th>\n",
       "      <th>latitude</th>\n",
       "      <th>longitude</th>\n",
       "    </tr>\n",
       "  </thead>\n",
       "  <tbody>\n",
       "    <tr>\n",
       "      <th>0</th>\n",
       "      <td>2022-01-01</td>\n",
       "      <td>50</td>\n",
       "      <td>34</td>\n",
       "      <td>0.0</td>\n",
       "      <td>42.0</td>\n",
       "      <td>0.02</td>\n",
       "      <td>304174-2</td>\n",
       "      <td>ITHACA CORNELL UNIV</td>\n",
       "      <td>42.44915</td>\n",
       "      <td>-76.44905</td>\n",
       "    </tr>\n",
       "    <tr>\n",
       "      <th>1</th>\n",
       "      <td>2022-01-02</td>\n",
       "      <td>52</td>\n",
       "      <td>29</td>\n",
       "      <td>0.0</td>\n",
       "      <td>40.5</td>\n",
       "      <td>0.28</td>\n",
       "      <td>304174-2</td>\n",
       "      <td>ITHACA CORNELL UNIV</td>\n",
       "      <td>42.44915</td>\n",
       "      <td>-76.44905</td>\n",
       "    </tr>\n",
       "    <tr>\n",
       "      <th>2</th>\n",
       "      <td>2022-01-03</td>\n",
       "      <td>29</td>\n",
       "      <td>17</td>\n",
       "      <td>0.7</td>\n",
       "      <td>23.0</td>\n",
       "      <td>0.05</td>\n",
       "      <td>304174-2</td>\n",
       "      <td>ITHACA CORNELL UNIV</td>\n",
       "      <td>42.44915</td>\n",
       "      <td>-76.44905</td>\n",
       "    </tr>\n",
       "    <tr>\n",
       "      <th>3</th>\n",
       "      <td>2022-01-04</td>\n",
       "      <td>18</td>\n",
       "      <td>8</td>\n",
       "      <td>0.3</td>\n",
       "      <td>13.0</td>\n",
       "      <td>0.01</td>\n",
       "      <td>304174-2</td>\n",
       "      <td>ITHACA CORNELL UNIV</td>\n",
       "      <td>42.44915</td>\n",
       "      <td>-76.44905</td>\n",
       "    </tr>\n",
       "    <tr>\n",
       "      <th>4</th>\n",
       "      <td>2022-01-05</td>\n",
       "      <td>32</td>\n",
       "      <td>17</td>\n",
       "      <td>0.0</td>\n",
       "      <td>24.5</td>\n",
       "      <td>0.00</td>\n",
       "      <td>304174-2</td>\n",
       "      <td>ITHACA CORNELL UNIV</td>\n",
       "      <td>42.44915</td>\n",
       "      <td>-76.44905</td>\n",
       "    </tr>\n",
       "  </tbody>\n",
       "</table>\n",
       "</div>"
      ],
      "text/plain": [
       "         Date MaxTemp MinTemp SnowDepth AvgTemp Precipitation   site_id  \\\n",
       "0  2022-01-01      50      34       0.0    42.0          0.02  304174-2   \n",
       "1  2022-01-02      52      29       0.0    40.5          0.28  304174-2   \n",
       "2  2022-01-03      29      17       0.7    23.0          0.05  304174-2   \n",
       "3  2022-01-04      18       8       0.3    13.0          0.01  304174-2   \n",
       "4  2022-01-05      32      17       0.0    24.5          0.00  304174-2   \n",
       "\n",
       "                  name  latitude  longitude  \n",
       "0  ITHACA CORNELL UNIV  42.44915  -76.44905  \n",
       "1  ITHACA CORNELL UNIV  42.44915  -76.44905  \n",
       "2  ITHACA CORNELL UNIV  42.44915  -76.44905  \n",
       "3  ITHACA CORNELL UNIV  42.44915  -76.44905  \n",
       "4  ITHACA CORNELL UNIV  42.44915  -76.44905  "
      ]
     },
     "execution_count": 2,
     "metadata": {},
     "output_type": "execute_result"
    }
   ],
   "source": [
    "# Site ID to request data for.\n",
    "# Add <space>6 to the end of GHCN site IDs. Add <space>2 for coop site ids. (E.g., \"USS0020A23S\" => \"USS0020A23S 6\")\n",
    "site_id = '304174 2'  # Ithaca.\n",
    "\n",
    "# list of met elements to request.\n",
    "# Options in dictionary below:\n",
    "met_elements_ref = {'maxt': 'MaxTemp', 'mint': 'MinTemp', 'avgt': 'AvgTemp', 'pcpn': 'Precipitation',\n",
    "                 'snow': 'SnowDepth'}\n",
    "met_elements = ['maxt', 'mint', 'snow', 'avgt', 'pcpn']\n",
    "\n",
    "# Date range.\n",
    "start_date = '2022-01-01'  # YYYY-mm-dd.\n",
    "end_date = '2022-01-21'\n",
    "\n",
    "\n",
    "## Make the request.\n",
    "acis_df = acis_data.request_acis_data(met_elements, site_id, start_date, end_date)\n",
    "acis_df.head()"
   ]
  },
  {
   "cell_type": "markdown",
   "metadata": {},
   "source": [
    "## 2) Inspect the data."
   ]
  },
  {
   "cell_type": "code",
   "execution_count": 4,
   "metadata": {},
   "outputs": [
    {
     "data": {
      "image/png": "[encoded data removed]",
      "text/plain": [
       "<Figure size 432x288 with 1 Axes>"
      ]
     },
     "metadata": {
      "needs_background": "light"
     },
     "output_type": "display_data"
    },
    {
     "data": {
      "image/png": "[encoded data removed]",
      "text/plain": [
       "<Figure size 576x360 with 1 Axes>"
      ]
     },
     "metadata": {
      "needs_background": "light"
     },
     "output_type": "display_data"
    }
   ],
   "source": [
    "# Plotting column names and missing value.\n",
    "data_column_name = 'MaxTemp'\n",
    "time_column_name = 'Date'\n",
    "missing_value = 'M'\n",
    "\n",
    "# Plot the valid, missing, and non-valid data as a bar chart.\n",
    "plotting.plot_missing_ratio(acis_df, data_column_name)\n",
    "\n",
    "# Plot the data as a time series.\n",
    "plotting.plot_data_timeseries(acis_df, data_column_name, time_column_name, missing_value=missing_value)"
   ]
  },
  {
   "cell_type": "markdown",
   "metadata": {},
   "source": [
    "## 3) Data cleaning."
   ]
  },
  {
   "cell_type": "code",
   "execution_count": null,
   "metadata": {},
   "outputs": [],
   "source": []
  },
  {
   "cell_type": "markdown",
   "metadata": {},
   "source": [
    "## 4) Data resampling."
   ]
  },
  {
   "cell_type": "code",
   "execution_count": null,
   "metadata": {},
   "outputs": [],
   "source": []
  }
 ],
 "metadata": {
  "kernelspec": {
   "display_name": "pydrology-env",
   "language": "python",
   "name": "pydrology-env"
  },
  "language_info": {
   "codemirror_mode": {
    "name": "ipython",
    "version": 3
   },
   "file_extension": ".py",
   "mimetype": "text/x-python",
   "name": "python",
   "nbconvert_exporter": "python",
   "pygments_lexer": "ipython3",
   "version": "3.8.4"
  }
 },
 "nbformat": 4,
 "nbformat_minor": 4
}
