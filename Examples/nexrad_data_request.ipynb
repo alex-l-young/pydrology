{
 "cells": [
  {
   "cell_type": "code",
   "execution_count": 2,
   "id": "81967034",
   "metadata": {},
   "outputs": [],
   "source": [
    "from pydrology.data_requests import request_nexrad_data"
   ]
  },
  {
   "cell_type": "code",
   "execution_count": 3,
   "id": "bde4f219",
   "metadata": {},
   "outputs": [
    {
     "ename": "TypeError",
     "evalue": "'NoneType' object is not iterable",
     "output_type": "error",
     "traceback": [
      "\u001b[0;31m---------------------------------------------------------------------------\u001b[0m",
      "\u001b[0;31mTypeError\u001b[0m                                 Traceback (most recent call last)",
      "Input \u001b[0;32mIn [3]\u001b[0m, in \u001b[0;36m<cell line: 4>\u001b[0;34m()\u001b[0m\n\u001b[1;32m      2\u001b[0m date \u001b[38;5;241m=\u001b[39m \u001b[38;5;124m'\u001b[39m\u001b[38;5;124m2022-07-25\u001b[39m\u001b[38;5;124m'\u001b[39m\n\u001b[1;32m      3\u001b[0m output_directory \u001b[38;5;241m=\u001b[39m \u001b[38;5;124m'\u001b[39m\u001b[38;5;124m/Users/alexyoung/Desktop/NEXRAD_Output\u001b[39m\u001b[38;5;124m'\u001b[39m\n\u001b[0;32m----> 4\u001b[0m \u001b[43mrequest_nexrad_data\u001b[49m\u001b[43m(\u001b[49m\u001b[43msite\u001b[49m\u001b[43m,\u001b[49m\u001b[43m \u001b[49m\u001b[43mdate\u001b[49m\u001b[43m,\u001b[49m\u001b[43m \u001b[49m\u001b[43moutput_directory\u001b[49m\u001b[43m)\u001b[49m\n",
      "File \u001b[0;32m~/Desktop/Cornell/Research/pydrology/src/pydrology/data_requests.py:194\u001b[0m, in \u001b[0;36mrequest_nexrad_data\u001b[0;34m(site, date, output_directory)\u001b[0m\n\u001b[1;32m    191\u001b[0m year, month, day \u001b[38;5;241m=\u001b[39m (date_split[\u001b[38;5;241m0\u001b[39m], date_split[\u001b[38;5;241m1\u001b[39m], date_split[\u001b[38;5;241m2\u001b[39m])\n\u001b[1;32m    193\u001b[0m conn \u001b[38;5;241m=\u001b[39m nexradaws\u001b[38;5;241m.\u001b[39mNexradAwsInterface()\n\u001b[0;32m--> 194\u001b[0m scans \u001b[38;5;241m=\u001b[39m \u001b[43mconn\u001b[49m\u001b[38;5;241;43m.\u001b[39;49m\u001b[43mget_avail_scans\u001b[49m\u001b[43m(\u001b[49m\u001b[43myear\u001b[49m\u001b[43m,\u001b[49m\u001b[43m \u001b[49m\u001b[43mmonth\u001b[49m\u001b[43m,\u001b[49m\u001b[43m \u001b[49m\u001b[43mday\u001b[49m\u001b[43m,\u001b[49m\u001b[43m \u001b[49m\u001b[43msite\u001b[49m\u001b[43m)\u001b[49m\n\u001b[1;32m    196\u001b[0m \u001b[38;5;66;03m# Save all nexrad scans.\u001b[39;00m\n\u001b[1;32m    197\u001b[0m \u001b[38;5;28;01mfor\u001b[39;00m scan \u001b[38;5;129;01min\u001b[39;00m scans:\n",
      "File \u001b[0;32m~/Desktop/CS/Python_Venvs/pydrology-env/lib/python3.8/site-packages/nexradaws/nexradawsinterface.py:160\u001b[0m, in \u001b[0;36mNexradAwsInterface.get_avail_scans\u001b[0;34m(self, year, month, day, radar)\u001b[0m\n\u001b[1;32m    156\u001b[0m prefix \u001b[38;5;241m=\u001b[39m \u001b[38;5;28mself\u001b[39m\u001b[38;5;241m.\u001b[39m_build_prefix(year\u001b[38;5;241m=\u001b[39myear, month\u001b[38;5;241m=\u001b[39mmonth, day\u001b[38;5;241m=\u001b[39mday, station_id\u001b[38;5;241m=\u001b[39mradar)\n\u001b[1;32m    157\u001b[0m resp \u001b[38;5;241m=\u001b[39m \u001b[38;5;28mself\u001b[39m\u001b[38;5;241m.\u001b[39m_bucket\u001b[38;5;241m.\u001b[39mmeta\u001b[38;5;241m.\u001b[39mclient\u001b[38;5;241m.\u001b[39mlist_objects(Bucket\u001b[38;5;241m=\u001b[39m\u001b[38;5;124m'\u001b[39m\u001b[38;5;124mnoaa-nexrad-level2\u001b[39m\u001b[38;5;124m'\u001b[39m,\n\u001b[1;32m    158\u001b[0m                                              Prefix\u001b[38;5;241m=\u001b[39mprefix,\n\u001b[1;32m    159\u001b[0m                                              Delimiter\u001b[38;5;241m=\u001b[39m\u001b[38;5;124m'\u001b[39m\u001b[38;5;124m/\u001b[39m\u001b[38;5;124m'\u001b[39m)\n\u001b[0;32m--> 160\u001b[0m \u001b[38;5;28;01mfor\u001b[39;00m scan \u001b[38;5;129;01min\u001b[39;00m resp\u001b[38;5;241m.\u001b[39mget(\u001b[38;5;124m'\u001b[39m\u001b[38;5;124mContents\u001b[39m\u001b[38;5;124m'\u001b[39m):\n\u001b[1;32m    161\u001b[0m     match \u001b[38;5;241m=\u001b[39m \u001b[38;5;28mself\u001b[39m\u001b[38;5;241m.\u001b[39m_scan_re\u001b[38;5;241m.\u001b[39mmatch(scan\u001b[38;5;241m.\u001b[39mget(\u001b[38;5;124m'\u001b[39m\u001b[38;5;124mKey\u001b[39m\u001b[38;5;124m'\u001b[39m))\n\u001b[1;32m    162\u001b[0m     \u001b[38;5;28;01mif\u001b[39;00m match \u001b[38;5;129;01mis\u001b[39;00m \u001b[38;5;129;01mnot\u001b[39;00m \u001b[38;5;28;01mNone\u001b[39;00m:\n",
      "\u001b[0;31mTypeError\u001b[0m: 'NoneType' object is not iterable"
     ]
    }
   ],
   "source": [
    "site = 'KGBM'\n",
    "date = '2022-07-25'\n",
    "output_directory = '/Users/alexyoung/Desktop/NEXRAD_Output'\n",
    "request_nexrad_data(site, date, output_directory)"
   ]
  },
  {
   "cell_type": "code",
   "execution_count": null,
   "id": "54927196",
   "metadata": {},
   "outputs": [],
   "source": []
  }
 ],
 "metadata": {
  "kernelspec": {
   "display_name": "pydrology-env",
   "language": "python",
   "name": "pydrology-env"
  },
  "language_info": {
   "codemirror_mode": {
    "name": "ipython",
    "version": 3
   },
   "file_extension": ".py",
   "mimetype": "text/x-python",
   "name": "python",
   "nbconvert_exporter": "python",
   "pygments_lexer": "ipython3",
   "version": "3.8.4"
  }
 },
 "nbformat": 4,
 "nbformat_minor": 5
}
