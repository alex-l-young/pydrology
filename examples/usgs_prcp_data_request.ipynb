{
 "cells": [
  {
   "cell_type": "markdown",
   "metadata": {
    "pycharm": {
     "name": "#%% md\n"
    }
   },
   "source": [
    "## Request USGS Precipitation Data.\n",
    "This notebook is an example of how to use pydrology to download and resample USGS precipitation data. The USGS provides gage data from rain gauges across the United States, which can be accessed on their website (https://waterdata.usgs.gov/nwis). An example of the monitoring data can be found here (https://waterdata.usgs.gov/monitoring-location/350110080502045/#parameterCode=00045&period=P7D) for a gauge in Mecklenburg, NC. The data provided at each location is generally a rain measurement in inches.\n",
    "\n",
    "The general workflow for requesting USGS streamflow data is as follows:\n",
    "1. Request the gage data for a particular site using the function call below.\n",
    "2. Inspect the raw gage data for missing values and other issues.\n",
    "3. Handle any data cleaning and then the data is ready for use!\n",
    "4. (Optional) Downsample or upsample the data using the provided functions.\n",
    "5. Save the Data Frame."
   ]
  },
  {
   "cell_type": "code",
   "execution_count": null,
   "metadata": {
    "pycharm": {
     "name": "#%%\n"
    }
   },
   "outputs": [],
   "source": [
    "# Library imports.\n",
    "import matplotlib.pyplot as plt\n",
    "import numpy as np\n",
    "import pandas as pd\n",
    "\n",
    "# Local imports.\n",
    "from pydrology.usgs.usgs_prcp_request import request_usgs_prcp_data\n",
    "from pydrology import plotting\n",
    "from pydrology import time_series"
   ]
  },
  {
   "cell_type": "markdown",
   "metadata": {
    "pycharm": {
     "name": "#%% md\n"
    }
   },
   "source": [
    "## 1) Request USGS rain gauge data"
   ]
  },
  {
   "cell_type": "code",
   "execution_count": null,
   "metadata": {
    "pycharm": {
     "name": "#%%\n"
    }
   },
   "outputs": [],
   "source": [
    "# Parameters for the request.\n",
    "# ---------------------------\n",
    "\n",
    "# Gage ID. Found on the USGS page for the specific monitoring location.\n",
    "gage_id = \"350110080502045\"  # Somewhere, North Carolina\n",
    "\n",
    "# Start date in format yyyy-mm-dd. \"2022-06-24\"\n",
    "start_date = \"2016-10-01\"\n",
    "\n",
    "# Local start time in format HH:MM:SS.mmm. \"11:17:05.203\"\n",
    "start_time = \"00:00:00.000\"\n",
    "\n",
    "# End date in format yyyy-mm-dd. \"2022-06-24\"\n",
    "end_date = \"2016-11-01\"\n",
    "\n",
    "# Local end time in format HH:MM:SS.mmm. \"11:17:05.203\"\n",
    "end_time = \"00:00:00.000\"\n",
    "\n",
    "# Number of hour offset from GMT (+ or -) in format +/-HH:MM. \"-04:00\"\n",
    "gmt_offset = \"-05:00\""
   ]
  },
  {
   "cell_type": "code",
   "execution_count": null,
   "metadata": {
    "pycharm": {
     "name": "#%%\n"
    }
   },
   "outputs": [],
   "source": [
    "# Request the gage data as a DataFrame.\n",
    "gage_df = request_usgs_prcp_data(gage_id, start_date, start_time, end_date, end_time, gmt_offset)\n",
    "\n",
    "# Print the head and tail.\n",
    "gage_df.head()"
   ]
  },
  {
   "cell_type": "markdown",
   "metadata": {
    "pycharm": {
     "name": "#%% md\n"
    }
   },
   "source": [
    "## 2) Inspect the data."
   ]
  },
  {
   "cell_type": "code",
   "execution_count": null,
   "metadata": {
    "pycharm": {
     "name": "#%%\n"
    }
   },
   "outputs": [],
   "source": [
    "# Plotting column names and missing value.\n",
    "data_column_name = 'precip'\n",
    "time_column_name = 'datetime'\n",
    "missing_value = 'M'\n",
    "\n",
    "# Plot the valid, missing, and non-valid data as a bar chart.\n",
    "plotting.plot_missing_ratio(gage_df, data_column_name)\n",
    "\n",
    "# Plot the data as a time series.\n",
    "plotting.plot_data_timeseries(gage_df, data_column_name, time_column_name, missing_value=missing_value)"
   ]
  },
  {
   "cell_type": "markdown",
   "metadata": {
    "pycharm": {
     "name": "#%% md\n"
    }
   },
   "source": [
    "## 3) Data cleaning."
   ]
  },
  {
   "cell_type": "code",
   "execution_count": null,
   "metadata": {
    "pycharm": {
     "name": "#%%\n"
    }
   },
   "outputs": [],
   "source": [
    "dt = 15 # Time step in minutes.\n",
    "data_column = 'precip'\n",
    "time_column = 'datetime'"
   ]
  },
  {
   "cell_type": "markdown",
   "metadata": {
    "pycharm": {
     "name": "#%% md\n"
    }
   },
   "source": [
    "### Set Missing to NaN. 'M' => NaN"
   ]
  },
  {
   "cell_type": "code",
   "execution_count": null,
   "metadata": {
    "pycharm": {
     "name": "#%%\n"
    }
   },
   "outputs": [],
   "source": [
    "missing_value = 'M'\n",
    "gage_df.replace(missing_value, np.nan, inplace=True)"
   ]
  },
  {
   "cell_type": "markdown",
   "metadata": {
    "pycharm": {
     "name": "#%% md\n"
    }
   },
   "source": [
    "### Add NaN values to missing time steps."
   ]
  },
  {
   "cell_type": "code",
   "execution_count": null,
   "metadata": {
    "pycharm": {
     "name": "#%%\n"
    }
   },
   "outputs": [],
   "source": [
    "gage_df = time_series.standardize_datetime(gage_df, time_column, data_column, dt)"
   ]
  },
  {
   "cell_type": "markdown",
   "metadata": {
    "pycharm": {
     "name": "#%% md\n"
    }
   },
   "source": [
    "### Interpolation of NaN values."
   ]
  },
  {
   "cell_type": "code",
   "execution_count": null,
   "metadata": {
    "pycharm": {
     "name": "#%%\n"
    }
   },
   "outputs": [],
   "source": [
    "gage_df = time_series.interpolate_time_series(gage_df, data_column, method='linear')"
   ]
  },
  {
   "cell_type": "markdown",
   "metadata": {
    "pycharm": {
     "name": "#%% md\n"
    }
   },
   "source": [
    "## 4) Resampling data."
   ]
  },
  {
   "cell_type": "code",
   "execution_count": null,
   "metadata": {
    "pycharm": {
     "name": "#%%\n"
    }
   },
   "outputs": [],
   "source": [
    "new_dt = 1440 # New time step in minutes. \n",
    "data_column = 'precip'\n",
    "time_column = 'datetime'\n",
    "resample_gage_df = time_series.resample_data(gage_df, time_column, data_column, new_dt)\n",
    "resample_gage_df.head()"
   ]
  },
  {
   "cell_type": "code",
   "execution_count": null,
   "metadata": {
    "pycharm": {
     "name": "#%%\n"
    }
   },
   "outputs": [],
   "source": [
    "fig, ax = plt.subplots()\n",
    "ax.plot(gage_df.datetime, gage_df[data_column], 'b-o', label='Orig. Data')\n",
    "ax.plot(resample_gage_df.datetime, resample_gage_df[data_column], 'rx', label='Clean/Resamp.')\n",
    "ax.legend()\n",
    "ax.tick_params(axis='x', rotation=45)\n",
    "plt.show()"
   ]
  },
  {
   "cell_type": "markdown",
   "metadata": {
    "pycharm": {
     "name": "#%% md\n"
    }
   },
   "source": [
    "## 5) Save Data Frame."
   ]
  },
  {
   "cell_type": "code",
   "execution_count": null,
   "metadata": {
    "pycharm": {
     "name": "#%%\n"
    }
   },
   "outputs": [],
   "source": [
    "gage_df.to_csv('~/Mecklenberg_Prcp.csv', index=False)\n"
   ]
  },
  {
   "cell_type": "code",
   "execution_count": null,
   "metadata": {
    "pycharm": {
     "name": "#%%\n"
    }
   },
   "outputs": [],
   "source": [
    "## Batch Request."
   ]
  },
  {
   "cell_type": "code",
   "execution_count": null,
   "metadata": {
    "pycharm": {
     "name": "#%%\n"
    }
   },
   "outputs": [],
   "source": [
    "# Parameters for the request.\n",
    "# ---------------------------\n",
    "\n",
    "# List of gage IDs. Found on the USGS page for the specific monitoring location.\n",
    "gage_ids = [\n",
    "    \"354356078331845\",\n",
    "    \"354525078382645\",\n",
    "    \"352936076125245\",\n",
    "    \"354356078331845\",\n",
    "    \"354525078382645\",\n",
    "    \"354528078372645\",\n",
    "    \"354546078422045\",\n",
    "    \"354606078412845\",\n",
    "    \"354623078441345\",\n",
    "    \"355020078465645\",\n",
    "    \"355201078362845\",\n",
    "    \"355339078405145\",\n",
    "    \"355348078433545\",\n",
    "    \"355852078572045\",\n",
    "    \"355856078492945\",\n",
    "    \"360143078540945\",\n",
    "    \"360334078584145\",\n",
    "    \"360419078543145\",\n",
    "    \"350152079030745\",\n",
    "    \"350258078512145\",\n",
    "    \"350915078533245\",\n",
    "    \"355511078570745\",\n",
    "    \"355520079035845\",\n",
    "    \"355631079025645\",\n",
    "    \"360733079552145\",\n",
    "    \"350627080410645\",\n",
    "    \"350857080383245\",\n",
    "    \"351028080385545\",\n",
    "    \"351145080371945\",\n",
    "    \"351218080331345\",\n",
    "    \"351302080412701\",\n",
    "    \"351455080374445\",\n",
    "    \"351536080410645\",\n",
    "    \"351540080430045\",\n",
    "    \"351741080475045\",\n",
    "    \"351812080445545\",\n",
    "    \"351943080323145\",\n",
    "    \"352000080414645\",\n",
    "    \"352006080462845\",\n",
    "    \"352135080462045\",\n",
    "    \"352310080424845\",\n",
    "    \"352432080473745\",\n",
    "    \"352541080441745\",\n",
    "    \"352718080484345\",\n",
    "    \"352921080473245\",\n",
    "    \"354057080362545\",\n",
    "    \"354303080354645\",\n",
    "    \"354822080521501\",\n",
    "    \"354855080134201\",\n",
    "    \"355037080393045\",\n",
    "    \"355113080230345\",\n",
    "    \"360000080444645\",\n",
    "    \"360848080251845\",\n",
    "    \"362416080334345\",\n",
    "    \"350110080502045\",\n",
    "    \"350128081000145\",\n",
    "    \"350314080484945\",\n",
    "    \"350324080551845\",\n",
    "    \"350351080454145\",\n",
    "    \"350359080521145\",\n",
    "    \"350623080583801\",\n",
    "    \"350624081023345\",\n",
    "    \"350630080455845\",\n",
    "    \"350635080513245\",\n",
    "    \"350637080475645\",\n",
    "    \"350646080432545\",\n",
    "    \"350657080544945\",\n",
    "    \"350815080460745\",\n",
    "    \"350823080505345\",\n",
    "    \"350842080572801\",\n",
    "    \"350903081004545\",\n",
    "    \"350947080524945\",\n",
    "    \"351001080495845\",\n",
    "    \"351023080435745\",\n",
    "    \"351032080475245\",\n",
    "    \"351104080521845\",\n",
    "    \"351109080412145\",\n",
    "    \"351124080581245\",\n",
    "    \"351132080504145\",\n",
    "    \"351132080562345\",\n",
    "    \"351229080460245\",\n",
    "    \"351229080480145\",\n",
    "    \"351247080592745\",\n",
    "    \"351320080502645\",\n",
    "    \"351331080525945\",\n",
    "    \"351412080541245\",\n",
    "    \"351414080463245\",\n",
    "    \"351452081055245\",\n",
    "    \"351502080512045\",\n",
    "    \"351553080562645\",\n",
    "    \"351604080470845\",\n",
    "    \"351633080493445\",\n",
    "    \"351642080533445\",\n",
    "    \"351753081011745\",\n",
    "    \"351816080564345\",\n",
    "    \"351822081140545\",\n",
    "    \"351922080540345\",\n",
    "    \"351928080515645\",\n",
    "    \"351954080493445\",\n",
    "    \"352003080591245\",\n",
    "    \"352155080531145\",\n",
    "    \"352224080500345\",\n",
    "    \"352323080551645\",\n",
    "    \"352440080505045\",\n",
    "    \"352523080535545\",\n",
    "    \"352555080574445\",\n",
    "    \"352602081014745\",\n",
    "    \"352750080523545\",\n",
    "    \"353003080591745\",\n",
    "    \"353014080524945\",\n",
    "    \"353459081334545\",\n",
    "    \"352536082333245\",\n",
    "]\n",
    "\n",
    "# Start date in format yyyy-mm-dd. \"2022-06-24\"\n",
    "start_date = \"2016-10-01\"\n",
    "\n",
    "# Local start time in format HH:MM:SS.mmm. \"11:17:05.203\"\n",
    "start_time = \"00:00:00.000\"\n",
    "\n",
    "# End date in format yyyy-mm-dd. \"2022-06-24\"\n",
    "end_date = \"2016-11-01\"\n",
    "\n",
    "# Local end time in format HH:MM:SS.mmm. \"11:17:05.203\"\n",
    "end_time = \"00:00:00.000\"\n",
    "\n",
    "# Number of hour offset from GMT (+ or -) in format +/-HH:MM. \"-04:00\"\n",
    "gmt_offset = \"-04:00\""
   ]
  },
  {
   "cell_type": "code",
   "execution_count": null,
   "metadata": {
    "pycharm": {
     "name": "#%%\n"
    }
   },
   "outputs": [],
   "source": [
    "# Request for each gage ID.\n",
    "gage_df_list = []\n",
    "for gid in gage_ids:\n",
    "    try:\n",
    "        gage_df_list.append(request_usgs_prcp_data(gid, start_date, start_time, end_date, end_time, gmt_offset,\n",
    "                                                  timeout=10))\n",
    "    except Exception as e:\n",
    "        print(e)\n",
    "        print('Could not get data for {}'.format(gid))\n",
    "    \n",
    "# Join the gage dfs.\n",
    "gage_df_concat = pd.concat(gage_df_list)"
   ]
  },
  {
   "cell_type": "code",
   "execution_count": null,
   "metadata": {
    "pycharm": {
     "name": "#%%\n"
    }
   },
   "outputs": [],
   "source": [
    "gage_df_concat.head()"
   ]
  },
  {
   "cell_type": "code",
   "execution_count": null,
   "metadata": {
    "pycharm": {
     "name": "#%%\n"
    }
   },
   "outputs": [],
   "source": [
    "# Save the data frame.\n",
    "gage_df_concat.to_csv('~/Path to Directory/NC_Prcp_20161001_20161101.csv', index=False)"
   ]
  },
  {
   "cell_type": "code",
   "execution_count": null,
   "metadata": {
    "pycharm": {
     "name": "#%%\n"
    }
   },
   "outputs": [],
   "source": []
  }
 ],
 "metadata": {
  "kernelspec": {
   "display_name": "pydrology-env",
   "language": "python",
   "name": "pydrology-env"
  },
  "language_info": {
   "codemirror_mode": {
    "name": "ipython",
    "version": 3
   },
   "file_extension": ".py",
   "mimetype": "text/x-python",
   "name": "python",
   "nbconvert_exporter": "python",
   "pygments_lexer": "ipython3",
   "version": "3.8.4"
  }
 },
 "nbformat": 4,
 "nbformat_minor": 5
}
