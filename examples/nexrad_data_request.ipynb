{
 "cells": [
  {
   "cell_type": "markdown",
   "id": "12c27755",
   "metadata": {
    "pycharm": {
     "name": "#%% md\n"
    }
   },
   "source": [
    "## Request NEXRAD Level-2 Radar Data.\n",
    "This notebook is an example of how to use pydrology to download NEXRAD level-2 doppler radar data. NOAA provides access to NEXRAD doppler data across the contiguous United States. More information can be found here (https://www.ncei.noaa.gov/access/metadata/landing-page/bin/iso?id=gov.noaa.ncdc:C00345). With this script, you can requeset raw NEXRAD Level-2 Base data and then further process it into a NetCDF4 file if desired. \n",
    "\n",
    "The general workflow for requesting data is as follows:\n",
    "1. Choose a doppler radar site calling code from this map (https://www.roc.noaa.gov/WSR88D/Maps.aspx).\n",
    "2. Download the data with a request to an output directory.\n",
    "3. Process the reflectivity parameter into a NetCDF4 file if desired."
   ]
  },
  {
   "cell_type": "code",
   "execution_count": null,
   "id": "80ed393d",
   "metadata": {
    "pycharm": {
     "name": "#%%\n"
    }
   },
   "outputs": [],
   "source": [
    "from pydrology import nexrad_download, nexrad_processing\n",
    "from pathlib import Path\n",
    "import netCDF4 as nc4"
   ]
  },
  {
   "cell_type": "markdown",
   "id": "2aa18b73",
   "metadata": {
    "pycharm": {
     "name": "#%% md\n"
    }
   },
   "source": [
    "## 1 & 2) Request/Download NEXRAD files."
   ]
  },
  {
   "cell_type": "markdown",
   "id": "20c1b4d3",
   "metadata": {
    "pycharm": {
     "name": "#%% md\n"
    }
   },
   "source": [
    "### Option 1: Download with function call through Jupyter Notebook\n",
    "The following cell shows how to download a single day of NEXRAD scans with a function call in the Jupyter\n",
    "Notebook.\n",
    "\n",
    "** Note that logging shows up as red and is not an error or warning if it does not say explicitly."
   ]
  },
  {
   "cell_type": "code",
   "execution_count": null,
   "id": "9f32908e",
   "metadata": {
    "pycharm": {
     "name": "#%%\n"
    }
   },
   "outputs": [],
   "source": [
    "site = 'KBGM'\n",
    "date = '2022-07-25'\n",
    "download_dir = Path.home() / 'Desktop' / 'NEXRAD_Output'\n",
    "threads = 10\n",
    "\n",
    "# Request and download NEXRAD data. Output is a list of file paths to downloaded NEXRAD files.\n",
    "nexrad_download.main(download_dir, date, site, threads)"
   ]
  },
  {
   "cell_type": "markdown",
   "id": "51496b4b",
   "metadata": {
    "pycharm": {
     "name": "#%% md\n"
    }
   },
   "source": [
    "### Option 2: Download with a command line call\n",
    "You can directly call the script nexrad_download.py with a call in the command line. The arguments are as follows:\n",
    "\n",
    "```\n",
    ">> python3 nexrad_download.py -h\n",
    "\n",
    "Download NEXRAD Scans from a single day.\n",
    "\n",
    "optional arguments:\n",
    "  -h, --help         show this help message and exit\n",
    "  --dir DIR          Output directory. Files will be saved in sub-directory using the\n",
    "                     date.\n",
    "  --threads THREADS  Number of download threads to use at once.\n",
    "  --date DATE        Date of the scans yyyy-mm-dd\n",
    "  --site SITE        NEXRAD site code.\n",
    "```\n",
    "\n",
    "A sample call might look like the following.\n",
    "\n",
    "```\n",
    ">> python3 nexrad_download.py --dir ~/NEXRAD_Output --threads 10 --date 2022-07-18 --site KBGM\n",
    "```"
   ]
  },
  {
   "cell_type": "markdown",
   "id": "be572be6",
   "metadata": {
    "pycharm": {
     "name": "#%% md\n"
    }
   },
   "source": [
    "## 3) Create NetCDF file from output data. "
   ]
  },
  {
   "cell_type": "markdown",
   "id": "4b21aa11",
   "metadata": {
    "pycharm": {
     "name": "#%% md\n"
    }
   },
   "source": [
    "This step must be done using a shell or from the command line. Creating a netCDF file from the data utilizes mulitprocessing, but due to Python's GIL, it's not possible to call the script normally from a Jupyter Notebook. The arguments for the download function are as follows:\n",
    "\n",
    "```\n",
    "Process NEXRAD Data from a single day.\n",
    "\n",
    "optional arguments:\n",
    "  -h, --help   show this help message and exit\n",
    "  --dir DIR    Directory containing NEXRAD file day sub-directories.\n",
    "  --pool POOL  Number of processors to pool.\n",
    "  --date DATE  Date of the scans yyyy-mm-dd\n",
    "  --site SITE  NEXRAD site code.\n",
    "\n",
    "```\n",
    "\n",
    "A call to process NEXRAD scans into a NetCDF file might look like the following:\n",
    "\n",
    "```\n",
    ">> python3 nexrad_processing.py --dir ~/NEXRAD_Output --pool 10 --date 2022-07-22 --site KBGM\n",
    "```"
   ]
  },
  {
   "cell_type": "markdown",
   "id": "f15a029b",
   "metadata": {
    "pycharm": {
     "name": "#%% md\n"
    }
   },
   "source": [
    "### Example NetCDF file.\n",
    "Below is what the contents of a NetCDF file of NEXRAD scans for a single day look like. This file was created from the downloaded scans on 2022-07-25 from station KBGM. "
   ]
  },
  {
   "cell_type": "code",
   "execution_count": null,
   "id": "299d98a7",
   "metadata": {
    "pycharm": {
     "name": "#%%\n"
    }
   },
   "outputs": [],
   "source": [
    "# Create netCDF4 file from output files.\n",
    "nc_path = Path.home() / 'Desktop' / 'NEXRAD_Output' / 'NEXRAD_KBGM_2022-07-25.nc'\n",
    "\n",
    "# Inspect the netCDF4 file.\n",
    "rootgrp = nc4.Dataset(nc_path, \"r\", format=\"NETCDF4\")\n",
    "\n",
    "print('\\n', 'NETCDF INSPECTION')\n",
    "print('\\n', 'DIMENSIONS')\n",
    "for key, val in rootgrp.dimensions.items():\n",
    "    print(key, ':', val)\n",
    "    \n",
    "print('\\n', 'VARIABLES')\n",
    "for key, val in rootgrp.variables.items():\n",
    "    print(key, ':', val)\n",
    "\n",
    "rootgrp.close()"
   ]
  },
  {
   "cell_type": "code",
   "execution_count": null,
   "id": "6a18d8a5",
   "metadata": {
    "pycharm": {
     "name": "#%%\n"
    }
   },
   "outputs": [],
   "source": []
  }
 ],
 "metadata": {
  "kernelspec": {
   "display_name": "pydrology-env",
   "language": "python",
   "name": "pydrology-env"
  },
  "language_info": {
   "codemirror_mode": {
    "name": "ipython",
    "version": 3
   },
   "file_extension": ".py",
   "mimetype": "text/x-python",
   "name": "python",
   "nbconvert_exporter": "python",
   "pygments_lexer": "ipython3",
   "version": "3.8.4"
  }
 },
 "nbformat": 4,
 "nbformat_minor": 5
}
