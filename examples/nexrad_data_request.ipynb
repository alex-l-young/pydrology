{
 "cells": [
  {
   "cell_type": "markdown",
   "id": "048940e4",
   "metadata": {},
   "source": [
    "## Request NEXRAD Level-2 Radar Data.\n",
    "This notebook is an example of how to use pydrology to download NEXRAD level-2 doppler radar data. NOAA provides access to NEXRAD doppler data across the contiguous United States. More information can be found here (https://www.ncei.noaa.gov/access/metadata/landing-page/bin/iso?id=gov.noaa.ncdc:C00345). With this script, you can requeset raw NEXRAD Level-2 Base data and then further process it into a NetCDF4 file if desired. \n",
    "\n",
    "The general workflow for requesting data is as follows:\n",
    "1. Choose a doppler radar site calling code from this map (https://www.roc.noaa.gov/WSR88D/Maps.aspx).\n",
    "2. Download the data with a request to an output directory.\n",
    "3. Process the reflectivity parameter into a NetCDF4 file if desired."
   ]
  },
  {
   "cell_type": "code",
   "execution_count": 2,
   "id": "d3777292",
   "metadata": {},
   "outputs": [],
   "source": [
    "from pydrology.data_requests import request_nexrad_data, nexrad_to_netcdf\n",
    "from pathlib import Path\n",
    "import netCDF4 as nc4"
   ]
  },
  {
   "cell_type": "markdown",
   "id": "e25b43d4",
   "metadata": {},
   "source": [
    "## 1 & 2) Request/Download NEXRAD files."
   ]
  },
  {
   "cell_type": "code",
   "execution_count": 3,
   "id": "5792e9f5",
   "metadata": {},
   "outputs": [
    {
     "name": "stdout",
     "output_type": "stream",
     "text": [
      "Found 294 scans for this date... \n",
      "\n",
      "Downloaded KBGM20220725_000141_V06\n",
      "1 out of 1 files downloaded...0 errors\n",
      "[<LocalNexradFile object - /Users/alexyoung/Desktop/NEXRAD_Output/KBGM20220725_000141_V06/KBGM20220725_000141_V06>]\n",
      "/Users/alexyoung/Desktop/NEXRAD_Output/KBGM20220725_000141_V06/KBGM20220725_000141_V06\n",
      "Downloaded KBGM20220725_000711_V06\n",
      "1 out of 1 files downloaded...0 errors\n",
      "[<LocalNexradFile object - /Users/alexyoung/Desktop/NEXRAD_Output/KBGM20220725_000711_V06/KBGM20220725_000711_V06>]\n",
      "/Users/alexyoung/Desktop/NEXRAD_Output/KBGM20220725_000711_V06/KBGM20220725_000711_V06\n",
      "Downloaded KBGM20220725_001241_V06\n",
      "1 out of 1 files downloaded...0 errors\n",
      "[<LocalNexradFile object - /Users/alexyoung/Desktop/NEXRAD_Output/KBGM20220725_001241_V06/KBGM20220725_001241_V06>]\n",
      "/Users/alexyoung/Desktop/NEXRAD_Output/KBGM20220725_001241_V06/KBGM20220725_001241_V06\n"
     ]
    }
   ],
   "source": [
    "site = 'KBGM'\n",
    "date = '2022-07-25'\n",
    "output_directory = Path.home() / 'Desktop' / 'NEXRAD_Output'\n",
    "\n",
    "# Request and download NEXRAD data. Output is a list of file paths to downloaded NEXRAD files.\n",
    "output_files = request_nexrad_data(site, date, output_directory)"
   ]
  },
  {
   "cell_type": "markdown",
   "id": "a134b8c3",
   "metadata": {},
   "source": [
    "## 3) Create NetCDF file from output data. "
   ]
  },
  {
   "cell_type": "code",
   "execution_count": 4,
   "id": "5f7a409f",
   "metadata": {},
   "outputs": [
    {
     "name": "stdout",
     "output_type": "stream",
     "text": [
      "Processing file: /Users/alexyoung/Desktop/NEXRAD_Output/KBGM20220725_000141_V06/KBGM20220725_000141_V06\n",
      "Processing file: /Users/alexyoung/Desktop/NEXRAD_Output/KBGM20220725_000711_V06/KBGM20220725_000711_V06\n",
      "Processing file: /Users/alexyoung/Desktop/NEXRAD_Output/KBGM20220725_001241_V06/KBGM20220725_001241_V06\n",
      "Created file: NEXRAD_KBGM_2022-07-25.nc\n",
      "\n",
      " NETCDF INSPECTION\n",
      "\n",
      " DIMENSIONS\n",
      "time : <class 'netCDF4._netCDF4.Dimension'>: name = 'time', size = 3\n",
      "refLat : <class 'netCDF4._netCDF4.Dimension'>: name = 'refLat', size = 720\n",
      "refLon : <class 'netCDF4._netCDF4.Dimension'>: name = 'refLon', size = 1832\n",
      "\n",
      " VARIABLES\n",
      "time : <class 'netCDF4._netCDF4.Variable'>\n",
      "float64 time(time)\n",
      "    units: hours since 0001-01-01 00:00:00.0\n",
      "    calendar: gregorian\n",
      "unlimited dimensions: \n",
      "current shape = (3,)\n",
      "filling on, default _FillValue of 9.969209968386869e+36 used\n",
      "refLat : <class 'netCDF4._netCDF4.Variable'>\n",
      "float32 refLat(refLat, refLon)\n",
      "unlimited dimensions: \n",
      "current shape = (720, 1832)\n",
      "filling on, default _FillValue of 9.969209968386869e+36 used\n",
      "refLon : <class 'netCDF4._netCDF4.Variable'>\n",
      "float32 refLon(refLat, refLon)\n",
      "unlimited dimensions: \n",
      "current shape = (720, 1832)\n",
      "filling on, default _FillValue of 9.969209968386869e+36 used\n",
      "ref : <class 'netCDF4._netCDF4.Variable'>\n",
      "float32 ref(time, refLat, refLon)\n",
      "unlimited dimensions: \n",
      "current shape = (3, 720, 1832)\n",
      "filling on, default _FillValue of 9.969209968386869e+36 used\n"
     ]
    }
   ],
   "source": [
    "# Create netCDF4 file from output files.\n",
    "nc_path = nexrad_to_netcdf(output_files, output_directory, date, site)\n",
    "\n",
    "# Inspect the netCDF4 file.\n",
    "rootgrp = nc4.Dataset(nc_path, \"r\", format=\"NETCDF4\")\n",
    "\n",
    "print('\\n', 'NETCDF INSPECTION')\n",
    "print('\\n', 'DIMENSIONS')\n",
    "for key, val in rootgrp.dimensions.items():\n",
    "    print(key, ':', val)\n",
    "    \n",
    "print('\\n', 'VARIABLES')\n",
    "for key, val in rootgrp.variables.items():\n",
    "    print(key, ':', val)\n",
    "\n",
    "rootgrp.close()"
   ]
  },
  {
   "cell_type": "code",
   "execution_count": null,
   "id": "cdbe6576",
   "metadata": {},
   "outputs": [],
   "source": []
  }
 ],
 "metadata": {
  "kernelspec": {
   "display_name": "pydrology-env",
   "language": "python",
   "name": "pydrology-env"
  },
  "language_info": {
   "codemirror_mode": {
    "name": "ipython",
    "version": 3
   },
   "file_extension": ".py",
   "mimetype": "text/x-python",
   "name": "python",
   "nbconvert_exporter": "python",
   "pygments_lexer": "ipython3",
   "version": "3.8.4"
  }
 },
 "nbformat": 4,
 "nbformat_minor": 5
}
