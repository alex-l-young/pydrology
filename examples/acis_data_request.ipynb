{
 "cells": [
  {
   "cell_type": "markdown",
   "metadata": {
    "pycharm": {
     "name": "#%% md\n"
    }
   },
   "source": [
    "## Request NOAA Daily Meterology Data.\n",
    "This notebook is an example of how to use pydrology to download and resample NOAA SC-ACIS. NOAA provides daily meteorology data, which can be accessed on their website (https://scacis.rcc-acis.org/). The data requests in this notebook come from Single Station Products > Daily Data Listing. The data comes from a network of weather monitoring stations that may have different meterology options, most often temperature and precipitation. Weather stations may have different time periods of data due to when they were put online or taken off. If your request contains a longer time period than is available, no-data values will be used as placeholders for the missing data.  \n",
    "\n",
    "The general workflow for requesting USGS streamflow data is as follows:\n",
    "1. Request the MET data for a particular site using the function call below.\n",
    "2. Inspect the raw data for missing values and other issues.\n",
    "3. Handle any data cleaning and then the data is ready for use!\n",
    "4. (Optional) Downsample or upsample the data using the provided functions."
   ]
  },
  {
   "cell_type": "code",
   "execution_count": null,
   "metadata": {
    "pycharm": {
     "name": "#%%\n"
    }
   },
   "outputs": [],
   "source": [
    "# Library imports.\n",
    "import numpy as np\n",
    "import matplotlib.pyplot as plt\n",
    "\n",
    "# Local imports.\n",
    "from pydrology.acis.acis_request import request_acis_data\n",
    "from pydrology import plotting\n",
    "from pydrology import time_series"
   ]
  },
  {
   "cell_type": "markdown",
   "metadata": {
    "pycharm": {
     "name": "#%% md\n"
    }
   },
   "source": [
    "## 1) Request meteorology data."
   ]
  },
  {
   "cell_type": "code",
   "execution_count": null,
   "metadata": {
    "pycharm": {
     "name": "#%%\n"
    }
   },
   "outputs": [],
   "source": [
    "# Site ID to request data for.\n",
    "# Add <space>6 to the end of GHCN site IDs. Add <space>2 for coop site ids. (E.g., \"USS0020A23S\" => \"USS0020A23S 6\")\n",
    "site_id = '300042 2'  # Albany, NY.\n",
    "\n",
    "# list of met elements to request.\n",
    "# Options in dictionary below:\n",
    "met_elements_ref = {'maxt': 'MaxTemp', 'mint': 'MinTemp', 'avgt': 'AvgTemp', 'pcpn': 'Precipitation',\n",
    "                 'snow': 'SnowFall', 'snwd': 'SnowDepth'}\n",
    "met_elements = ['maxt', 'mint', 'snow', 'avgt', 'pcpn', 'snwd']\n",
    "\n",
    "# Date range.\n",
    "start_date = '1950-01-01'  # YYYY-mm-dd.\n",
    "end_date = '2023-03-06'\n",
    "\n",
    "\n",
    "## Make the request.\n",
    "acis_df = request_acis_data(met_elements, site_id, start_date, end_date)"
   ]
  },
  {
   "cell_type": "markdown",
   "metadata": {
    "pycharm": {
     "name": "#%% md\n"
    }
   },
   "source": [
    "## 2) Inspect the data."
   ]
  },
  {
   "cell_type": "code",
   "execution_count": null,
   "metadata": {
    "pycharm": {
     "name": "#%%\n"
    }
   },
   "outputs": [],
   "source": [
    "# Plotting column names and missing value.\n",
    "data_column_name = 'Precipitation'\n",
    "time_column_name = 'Date'\n",
    "missing_value = 'M'\n",
    "\n",
    "# Plot the valid, missing, and non-valid data as a bar chart.\n",
    "plotting.plot_missing_ratio(acis_df, data_column_name)\n",
    "\n",
    "# Plot the data as a time series.\n",
    "plotting.plot_data_timeseries(acis_df, data_column_name, time_column_name, missing_value=missing_value)"
   ]
  },
  {
   "cell_type": "markdown",
   "metadata": {
    "pycharm": {
     "name": "#%% md\n"
    }
   },
   "source": [
    "## 3) Data cleaning."
   ]
  },
  {
   "cell_type": "code",
   "execution_count": null,
   "metadata": {
    "pycharm": {
     "name": "#%%\n"
    }
   },
   "outputs": [],
   "source": [
    "dt = 1440 # Time step in minutes.\n",
    "data_columns = ['MaxTemp', 'MinTemp', 'SnowFall', 'AvgTemp', 'Precipitation', 'SnowDepth']\n",
    "time_column = 'Date'"
   ]
  },
  {
   "cell_type": "markdown",
   "metadata": {
    "pycharm": {
     "name": "#%% md\n"
    }
   },
   "source": [
    "### Set Trace to Zero. 'T' => 0.0"
   ]
  },
  {
   "cell_type": "code",
   "execution_count": null,
   "metadata": {
    "pycharm": {
     "name": "#%%\n"
    }
   },
   "outputs": [],
   "source": [
    "# Trace means that there was precipitation, but it was below the measurement threshold.\n",
    "trace_value = 'T'\n",
    "acis_df.replace(trace_value, 0.0, inplace=True)"
   ]
  },
  {
   "cell_type": "markdown",
   "metadata": {
    "pycharm": {
     "name": "#%% md\n"
    }
   },
   "source": [
    "### Set Missing to NaN. 'M' => NaN"
   ]
  },
  {
   "cell_type": "code",
   "execution_count": null,
   "metadata": {
    "pycharm": {
     "name": "#%%\n"
    }
   },
   "outputs": [],
   "source": [
    "missing_value = 'M'\n",
    "acis_df.replace(missing_value, np.nan, inplace=True)"
   ]
  },
  {
   "cell_type": "markdown",
   "metadata": {
    "pycharm": {
     "name": "#%% md\n"
    }
   },
   "source": [
    "### Add NaN values to missing time steps."
   ]
  },
  {
   "cell_type": "code",
   "execution_count": null,
   "metadata": {
    "pycharm": {
     "name": "#%%\n"
    }
   },
   "outputs": [],
   "source": [
    "acis_df = time_series.standardize_datetime(acis_df, time_column, data_columns, dt)"
   ]
  },
  {
   "cell_type": "markdown",
   "metadata": {
    "pycharm": {
     "name": "#%% md\n"
    }
   },
   "source": [
    "### Interpolation of NaN values."
   ]
  },
  {
   "cell_type": "code",
   "execution_count": null,
   "metadata": {
    "pycharm": {
     "name": "#%%\n"
    }
   },
   "outputs": [],
   "source": [
    "acis_df = time_series.interpolate_time_series(acis_df, data_columns, method='linear')"
   ]
  },
  {
   "cell_type": "markdown",
   "metadata": {
    "pycharm": {
     "name": "#%% md\n"
    }
   },
   "source": [
    "## 4) Data resampling."
   ]
  },
  {
   "cell_type": "code",
   "execution_count": null,
   "metadata": {
    "pycharm": {
     "name": "#%%\n"
    }
   },
   "outputs": [],
   "source": [
    "new_dt = 360 # New time step in minutes. \n",
    "resample_acis_df = time_series.resample_data(acis_df, time_column, data_columns, new_dt)\n",
    "resample_acis_df.head()"
   ]
  },
  {
   "cell_type": "code",
   "execution_count": null,
   "metadata": {
    "pycharm": {
     "name": "#%%\n"
    }
   },
   "outputs": [],
   "source": [
    "fig, ax = plt.subplots()\n",
    "ax.plot(acis_df[time_column], acis_df['MaxTemp'], 'b-o', label='Orig. Data')\n",
    "ax.plot(resample_acis_df[time_column], resample_acis_df['MaxTemp'], 'rx', label='Clean/Resamp.')\n",
    "ax.legend()\n",
    "ax.tick_params(axis='x', rotation=45)\n",
    "plt.show()"
   ]
  },
  {
   "cell_type": "markdown",
   "metadata": {
    "pycharm": {
     "name": "#%% md\n"
    }
   },
   "source": [
    "## 5) Save Data Frame."
   ]
  },
  {
   "cell_type": "code",
   "execution_count": null,
   "metadata": {
    "pycharm": {
     "name": "#%%\n"
    }
   },
   "outputs": [],
   "source": [
    "acis_df.to_csv('~/Save Directory/Albany_1950-01-01_2023-03-06_Daily_Met.csv', index=False)\n",
    "\n"
   ]
  },
  {
   "cell_type": "code",
   "execution_count": null,
   "metadata": {
    "pycharm": {
     "name": "#%%\n"
    }
   },
   "outputs": [],
   "source": []
  }
 ],
 "metadata": {
  "kernelspec": {
   "display_name": "pydrology-env",
   "language": "python",
   "name": "pydrology-env"
  },
  "language_info": {
   "codemirror_mode": {
    "name": "ipython",
    "version": 3
   },
   "file_extension": ".py",
   "mimetype": "text/x-python",
   "name": "python",
   "nbconvert_exporter": "python",
   "pygments_lexer": "ipython3",
   "version": "3.8.4"
  }
 },
 "nbformat": 4,
 "nbformat_minor": 4
}
